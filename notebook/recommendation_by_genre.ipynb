{
  "cells": [
    {
      "attachments": {},
      "cell_type": "markdown",
      "metadata": {
        "colab_type": "text",
        "id": "view-in-github"
      },
      "source": [
        "<a href=\"https://colab.research.google.com/github/changyuhsin1999/Nintendo_Switch_Game_Recommendation/blob/main/recommendation_by_genre.ipynb\" target=\"_parent\"><img src=\"https://colab.research.google.com/assets/colab-badge.svg\" alt=\"Open In Colab\"/></a>"
      ]
    },
    {
      "cell_type": "code",
      "execution_count": null,
      "metadata": {
        "colab": {
          "base_uri": "https://localhost:8080/"
        },
        "id": "dCdlR_FsVgRJ",
        "outputId": "8e0ff148-67aa-45d7-c558-4e83c9ffed5a"
      },
      "outputs": [
        {
          "ename": "",
          "evalue": "",
          "output_type": "error",
          "traceback": [
            "\u001b[1;31mRunning cells with 'environ' requires the ipykernel package.\n",
            "\u001b[1;31mRun the following command to install 'ipykernel' into the Python environment. \n",
            "\u001b[1;31mCommand: 'conda install -n environ ipykernel --update-deps --force-reinstall'"
          ]
        }
      ],
      "source": [
        "import os\n",
        "\n",
        "# Remove Colab default sample_data\n",
        "!rm -r ./sample_data\n",
        "\n",
        "# Clone GitHub files to colab workspace\n",
        "repo_name = \"Nintendo_Switch_Game_Recommendation\" # Enter repo name\n",
        "git_path = 'https://github.com/changyuhsin1999/Nintendo_Switch_Game_Recommendation.git'\n",
        "!git clone \"{git_path}\""
      ]
    },
    {
      "cell_type": "code",
      "execution_count": 1,
      "metadata": {
        "id": "NbIgIwALXJdy"
      },
      "outputs": [
        {
          "name": "stderr",
          "output_type": "stream",
          "text": [
            "/Users/cindychang/opt/anaconda3/lib/python3.9/site-packages/scipy/__init__.py:146: UserWarning: A NumPy version >=1.16.5 and <1.23.0 is required for this version of SciPy (detected version 1.24.3\n",
            "  warnings.warn(f\"A NumPy version >={np_minversion} and <{np_maxversion}\"\n"
          ]
        }
      ],
      "source": [
        "import os\n",
        "import urllib\n",
        "import zipfile\n",
        "\n",
        "import numpy as np\n",
        "import pandas as pd\n",
        "from sklearn.model_selection import train_test_split\n",
        "from sklearn.feature_extraction.text import CountVectorizer\n",
        "from sklearn.metrics.pairwise import cosine_similarity\n",
        "from sklearn.metrics import mean_squared_error\n",
        "from sklearn.feature_extraction.text import TfidfVectorizer"
      ]
    },
    {
      "cell_type": "code",
      "execution_count": 4,
      "metadata": {
        "colab": {
          "base_uri": "https://localhost:8080/",
          "height": 206
        },
        "id": "loJW0WSqXLk7",
        "outputId": "0ef037cd-547d-4285-caeb-f1d5996de63d"
      },
      "outputs": [],
      "source": [
        "raw_df = pd.read_csv('switch-games.csv')\n",
        "clean_df = raw_df.loc[:,['id','title','game_url','developer','genre','rating']].dropna()\n",
        "final_df = clean_df[clean_df.rating != 0.0]\n",
        "final_df.head()\n",
        "final_df.to_pickle(\"game_rating.pkl\")"
      ]
    },
    {
      "cell_type": "code",
      "execution_count": 5,
      "metadata": {},
      "outputs": [
        {
          "data": {
            "text/html": [
              "<div>\n",
              "<style scoped>\n",
              "    .dataframe tbody tr th:only-of-type {\n",
              "        vertical-align: middle;\n",
              "    }\n",
              "\n",
              "    .dataframe tbody tr th {\n",
              "        vertical-align: top;\n",
              "    }\n",
              "\n",
              "    .dataframe thead th {\n",
              "        text-align: right;\n",
              "    }\n",
              "</style>\n",
              "<table border=\"1\" class=\"dataframe\">\n",
              "  <thead>\n",
              "    <tr style=\"text-align: right;\">\n",
              "      <th></th>\n",
              "      <th>id</th>\n",
              "      <th>title</th>\n",
              "      <th>game_url</th>\n",
              "      <th>developer</th>\n",
              "      <th>genre</th>\n",
              "      <th>rating</th>\n",
              "    </tr>\n",
              "  </thead>\n",
              "  <tbody>\n",
              "    <tr>\n",
              "      <th>3</th>\n",
              "      <td>e2f10932</td>\n",
              "      <td>Temtem</td>\n",
              "      <td>https://www.nintendolife.com/reviews/nintendo-...</td>\n",
              "      <td>Crema Games</td>\n",
              "      <td>Action  Adventure  RPG</td>\n",
              "      <td>7.8</td>\n",
              "    </tr>\n",
              "    <tr>\n",
              "      <th>5</th>\n",
              "      <td>4377dbf1</td>\n",
              "      <td>Splatoon 3</td>\n",
              "      <td>https://www.nintendolife.com/reviews/nintendo-...</td>\n",
              "      <td>Nintendo</td>\n",
              "      <td>Action</td>\n",
              "      <td>9.1</td>\n",
              "    </tr>\n",
              "    <tr>\n",
              "      <th>6</th>\n",
              "      <td>751a7bbf</td>\n",
              "      <td>JoJos Bizarre Adventure: All-Star Battle R</td>\n",
              "      <td>https://www.nintendolife.com/reviews/nintendo-...</td>\n",
              "      <td>CyberConnect2</td>\n",
              "      <td>Fighting</td>\n",
              "      <td>7.0</td>\n",
              "    </tr>\n",
              "    <tr>\n",
              "      <th>8</th>\n",
              "      <td>438bc630</td>\n",
              "      <td>Pac-Man World Re-PAC</td>\n",
              "      <td>https://www.nintendolife.com/reviews/nintendo-...</td>\n",
              "      <td>Bandai Namco</td>\n",
              "      <td>Action  Adventure  Platformer</td>\n",
              "      <td>6.9</td>\n",
              "    </tr>\n",
              "    <tr>\n",
              "      <th>9</th>\n",
              "      <td>7796d27e</td>\n",
              "      <td>Teenage Mutant Ninja Turtles: The Cowabunga Co...</td>\n",
              "      <td>https://www.nintendolife.com/reviews/nintendo-...</td>\n",
              "      <td>Digital Eclipse</td>\n",
              "      <td>Action  Arcade  Fighting  Platformer</td>\n",
              "      <td>6.9</td>\n",
              "    </tr>\n",
              "  </tbody>\n",
              "</table>\n",
              "</div>"
            ],
            "text/plain": [
              "         id                                              title  \\\n",
              "3  e2f10932                                             Temtem   \n",
              "5  4377dbf1                                         Splatoon 3   \n",
              "6  751a7bbf         JoJos Bizarre Adventure: All-Star Battle R   \n",
              "8  438bc630                               Pac-Man World Re-PAC   \n",
              "9  7796d27e  Teenage Mutant Ninja Turtles: The Cowabunga Co...   \n",
              "\n",
              "                                            game_url        developer  \\\n",
              "3  https://www.nintendolife.com/reviews/nintendo-...      Crema Games   \n",
              "5  https://www.nintendolife.com/reviews/nintendo-...         Nintendo   \n",
              "6  https://www.nintendolife.com/reviews/nintendo-...    CyberConnect2   \n",
              "8  https://www.nintendolife.com/reviews/nintendo-...     Bandai Namco   \n",
              "9  https://www.nintendolife.com/reviews/nintendo-...  Digital Eclipse   \n",
              "\n",
              "                                  genre  rating  \n",
              "3                Action  Adventure  RPG     7.8  \n",
              "5                                Action     9.1  \n",
              "6                              Fighting     7.0  \n",
              "8         Action  Adventure  Platformer     6.9  \n",
              "9  Action  Arcade  Fighting  Platformer     6.9  "
            ]
          },
          "execution_count": 5,
          "metadata": {},
          "output_type": "execute_result"
        }
      ],
      "source": [
        "final_df.head()"
      ]
    },
    {
      "cell_type": "code",
      "execution_count": 4,
      "metadata": {
        "id": "SYBJNtiB7MlV"
      },
      "outputs": [],
      "source": [
        "# create an object for TfidfVectorizer\n",
        "tfidf_vector = TfidfVectorizer(stop_words='english')\n",
        "# apply the object to the genres column\n",
        "tfidf_matrix = tfidf_vector.fit_transform(final_df['genre'])"
      ]
    },
    {
      "cell_type": "code",
      "execution_count": 33,
      "metadata": {
        "colab": {
          "base_uri": "https://localhost:8080/"
        },
        "id": "L2jFN22M75ql",
        "outputId": "5d5966fd-9d99-47dc-8534-11adee616a7e"
      },
      "outputs": [
        {
          "data": {
            "text/plain": [
              "(568, 568)"
            ]
          },
          "execution_count": 33,
          "metadata": {},
          "output_type": "execute_result"
        }
      ],
      "source": [
        "from sklearn.metrics.pairwise import linear_kernel\n",
        "# create the cosine similarity matrix\n",
        "sim_matrix = linear_kernel(tfidf_matrix,tfidf_matrix)\n",
        "sim_matrix.shape"
      ]
    },
    {
      "cell_type": "code",
      "execution_count": 8,
      "metadata": {
        "id": "Q6Apo5NMztag"
      },
      "outputs": [],
      "source": [
        "#Create reverse mapping of the game title so that we can eaily match back\n",
        "indicies = pd.Series(final_df.index, index = final_df['title']).drop_duplicates()"
      ]
    },
    {
      "cell_type": "code",
      "execution_count": 29,
      "metadata": {
        "id": "3ud3jHKiaFRF"
      },
      "outputs": [],
      "source": [
        "\n",
        "def get_recommendations_by_genre(title, cosine_sim = sim_matrix):\n",
        "  idx = indicies[title]\n",
        "  sim_scores = list(enumerate(cosine_sim[idx]))\n",
        "  sim_scores = sorted(sim_scores, key = lambda x:x[1], reverse = True)\n",
        "  sim_scores = sim_scores[1:11]\n",
        "  game_indicies = [i[0] for i in sim_scores]\n",
        "  return final_df['title'].iloc[game_indicies]"
      ]
    },
    {
      "cell_type": "code",
      "execution_count": 30,
      "metadata": {
        "colab": {
          "base_uri": "https://localhost:8080/"
        },
        "id": "Td5cDuxy0dXY",
        "outputId": "24939583-c24c-4a37-b412-97ac1f792a88"
      },
      "outputs": [
        {
          "data": {
            "text/plain": [
              "198             Mario Kart Live: Home Circuit\n",
              "51                                 Chocobo GP\n",
              "562                     10 Second Run Returns\n",
              "103                              Cruisn Blast\n",
              "303                            Race With Ryan\n",
              "290                 Disney Tsum Tsum Festival\n",
              "460                            Carnival Games\n",
              "635                                1-2-Switch\n",
              "178    Need for Speed: Hot Pursuit Remastered\n",
              "299              Garfield Kart Furious Racing\n",
              "Name: title, dtype: object"
            ]
          },
          "execution_count": 30,
          "metadata": {},
          "output_type": "execute_result"
        }
      ],
      "source": [
        "get_recommendations_by_genre('Splatoon 3')"
      ]
    },
    {
      "cell_type": "code",
      "execution_count": 22,
      "metadata": {
        "colab": {
          "base_uri": "https://localhost:8080/"
        },
        "id": "qQb6kPnz18J8",
        "outputId": "5d923dbf-a84f-43d2-e3d2-f40ad9065ba9"
      },
      "outputs": [
        {
          "data": {
            "text/plain": [
              "18                                           Live A Live\n",
              "53     Atelier Sophie 2: The Alchemist of the Mysteri...\n",
              "76                         BLUE REFLECTION: Second Light\n",
              "85                                      Astria Ascending\n",
              "136          Shin Megami Tensei III Nocturne HD Remaster\n",
              "160                                   Bravely Default II\n",
              "167      Atelier Ryza 2: Lost Legends & The Secret Fairy\n",
              "223                                           Fairy Tail\n",
              "241             Xenoblade Chronicles: Definitive Edition\n",
              "273                Snack World: The Dungeon Crawl - Gold\n",
              "Name: title, dtype: object"
            ]
          },
          "execution_count": 22,
          "metadata": {},
          "output_type": "execute_result"
        }
      ],
      "source": [
        "get_recommendations_by_genre('JoJos Bizarre Adventure: All-Star Battle R')"
      ]
    }
  ],
  "metadata": {
    "colab": {
      "authorship_tag": "ABX9TyMWaV0na3DTO/ukOUYoA0pc",
      "include_colab_link": true,
      "provenance": []
    },
    "kernelspec": {
      "display_name": "Python 3",
      "name": "python3"
    },
    "language_info": {
      "codemirror_mode": {
        "name": "ipython",
        "version": 3
      },
      "file_extension": ".py",
      "mimetype": "text/x-python",
      "name": "python",
      "nbconvert_exporter": "python",
      "pygments_lexer": "ipython3",
      "version": "3.9.7"
    }
  },
  "nbformat": 4,
  "nbformat_minor": 0
}
