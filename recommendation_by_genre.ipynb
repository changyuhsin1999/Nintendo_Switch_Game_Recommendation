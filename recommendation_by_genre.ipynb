{
  "nbformat": 4,
  "nbformat_minor": 0,
  "metadata": {
    "colab": {
      "provenance": [],
      "authorship_tag": "ABX9TyMWaV0na3DTO/ukOUYoA0pc",
      "include_colab_link": true
    },
    "kernelspec": {
      "name": "python3",
      "display_name": "Python 3"
    },
    "language_info": {
      "name": "python"
    }
  },
  "cells": [
    {
      "cell_type": "markdown",
      "metadata": {
        "id": "view-in-github",
        "colab_type": "text"
      },
      "source": [
        "<a href=\"https://colab.research.google.com/github/changyuhsin1999/Nintendo_Switch_Game_Recommendation/blob/main/recommendation_by_genre.ipynb\" target=\"_parent\"><img src=\"https://colab.research.google.com/assets/colab-badge.svg\" alt=\"Open In Colab\"/></a>"
      ]
    },
    {
      "cell_type": "code",
      "execution_count": 1,
      "metadata": {
        "colab": {
          "base_uri": "https://localhost:8080/"
        },
        "id": "dCdlR_FsVgRJ",
        "outputId": "8e0ff148-67aa-45d7-c558-4e83c9ffed5a"
      },
      "outputs": [
        {
          "output_type": "stream",
          "name": "stdout",
          "text": [
            "Cloning into 'Nintendo_Switch_Game_Recommendation'...\n",
            "remote: Enumerating objects: 6, done.\u001b[K\n",
            "remote: Counting objects: 100% (6/6), done.\u001b[K\n",
            "remote: Compressing objects: 100% (5/5), done.\u001b[K\n",
            "remote: Total 6 (delta 0), reused 0 (delta 0), pack-reused 0\u001b[K\n",
            "Receiving objects: 100% (6/6), 1.87 MiB | 9.05 MiB/s, done.\n"
          ]
        }
      ],
      "source": [
        "import os\n",
        "\n",
        "# Remove Colab default sample_data\n",
        "!rm -r ./sample_data\n",
        "\n",
        "# Clone GitHub files to colab workspace\n",
        "repo_name = \"Nintendo_Switch_Game_Recommendation\" # Enter repo name\n",
        "git_path = 'https://github.com/changyuhsin1999/Nintendo_Switch_Game_Recommendation.git'\n",
        "!git clone \"{git_path}\""
      ]
    },
    {
      "cell_type": "code",
      "source": [
        "import os\n",
        "import urllib\n",
        "import zipfile\n",
        "\n",
        "import numpy as np\n",
        "import pandas as pd\n",
        "from sklearn.model_selection import train_test_split\n",
        "from sklearn.feature_extraction.text import CountVectorizer\n",
        "from sklearn.metrics.pairwise import cosine_similarity\n",
        "from sklearn.metrics import mean_squared_error\n",
        "from sklearn.feature_extraction.text import TfidfVectorizer"
      ],
      "metadata": {
        "id": "NbIgIwALXJdy"
      },
      "execution_count": 2,
      "outputs": []
    },
    {
      "cell_type": "code",
      "source": [
        "raw_df = pd.read_csv('/content/Nintendo_Switch_Game_Recommendation/switch-games.csv')\n",
        "clean_df = raw_df.loc[:,['id','title','game_url','developer','genre','rating']].dropna()\n",
        "final_df = clean_df[clean_df.rating != 0.0]\n",
        "final_df.head()"
      ],
      "metadata": {
        "colab": {
          "base_uri": "https://localhost:8080/",
          "height": 206
        },
        "id": "loJW0WSqXLk7",
        "outputId": "0ef037cd-547d-4285-caeb-f1d5996de63d"
      },
      "execution_count": 3,
      "outputs": [
        {
          "output_type": "execute_result",
          "data": {
            "text/plain": [
              "         id                                              title  \\\n",
              "3  e2f10932                                             Temtem   \n",
              "5  4377dbf1                                         Splatoon 3   \n",
              "6  751a7bbf         JoJos Bizarre Adventure: All-Star Battle R   \n",
              "8  438bc630                               Pac-Man World Re-PAC   \n",
              "9  7796d27e  Teenage Mutant Ninja Turtles: The Cowabunga Co...   \n",
              "\n",
              "                                            game_url        developer  \\\n",
              "3  https://www.nintendolife.com/reviews/nintendo-...      Crema Games   \n",
              "5  https://www.nintendolife.com/reviews/nintendo-...         Nintendo   \n",
              "6  https://www.nintendolife.com/reviews/nintendo-...    CyberConnect2   \n",
              "8  https://www.nintendolife.com/reviews/nintendo-...     Bandai Namco   \n",
              "9  https://www.nintendolife.com/reviews/nintendo-...  Digital Eclipse   \n",
              "\n",
              "                                  genre  rating  \n",
              "3                Action  Adventure  RPG     7.8  \n",
              "5                                Action     9.1  \n",
              "6                              Fighting     7.0  \n",
              "8         Action  Adventure  Platformer     6.9  \n",
              "9  Action  Arcade  Fighting  Platformer     6.9  "
            ],
            "text/html": [
              "\n",
              "\n",
              "  <div id=\"df-befe64b5-10af-4199-9067-6bd9cd99c754\">\n",
              "    <div class=\"colab-df-container\">\n",
              "      <div>\n",
              "<style scoped>\n",
              "    .dataframe tbody tr th:only-of-type {\n",
              "        vertical-align: middle;\n",
              "    }\n",
              "\n",
              "    .dataframe tbody tr th {\n",
              "        vertical-align: top;\n",
              "    }\n",
              "\n",
              "    .dataframe thead th {\n",
              "        text-align: right;\n",
              "    }\n",
              "</style>\n",
              "<table border=\"1\" class=\"dataframe\">\n",
              "  <thead>\n",
              "    <tr style=\"text-align: right;\">\n",
              "      <th></th>\n",
              "      <th>id</th>\n",
              "      <th>title</th>\n",
              "      <th>game_url</th>\n",
              "      <th>developer</th>\n",
              "      <th>genre</th>\n",
              "      <th>rating</th>\n",
              "    </tr>\n",
              "  </thead>\n",
              "  <tbody>\n",
              "    <tr>\n",
              "      <th>3</th>\n",
              "      <td>e2f10932</td>\n",
              "      <td>Temtem</td>\n",
              "      <td>https://www.nintendolife.com/reviews/nintendo-...</td>\n",
              "      <td>Crema Games</td>\n",
              "      <td>Action  Adventure  RPG</td>\n",
              "      <td>7.8</td>\n",
              "    </tr>\n",
              "    <tr>\n",
              "      <th>5</th>\n",
              "      <td>4377dbf1</td>\n",
              "      <td>Splatoon 3</td>\n",
              "      <td>https://www.nintendolife.com/reviews/nintendo-...</td>\n",
              "      <td>Nintendo</td>\n",
              "      <td>Action</td>\n",
              "      <td>9.1</td>\n",
              "    </tr>\n",
              "    <tr>\n",
              "      <th>6</th>\n",
              "      <td>751a7bbf</td>\n",
              "      <td>JoJos Bizarre Adventure: All-Star Battle R</td>\n",
              "      <td>https://www.nintendolife.com/reviews/nintendo-...</td>\n",
              "      <td>CyberConnect2</td>\n",
              "      <td>Fighting</td>\n",
              "      <td>7.0</td>\n",
              "    </tr>\n",
              "    <tr>\n",
              "      <th>8</th>\n",
              "      <td>438bc630</td>\n",
              "      <td>Pac-Man World Re-PAC</td>\n",
              "      <td>https://www.nintendolife.com/reviews/nintendo-...</td>\n",
              "      <td>Bandai Namco</td>\n",
              "      <td>Action  Adventure  Platformer</td>\n",
              "      <td>6.9</td>\n",
              "    </tr>\n",
              "    <tr>\n",
              "      <th>9</th>\n",
              "      <td>7796d27e</td>\n",
              "      <td>Teenage Mutant Ninja Turtles: The Cowabunga Co...</td>\n",
              "      <td>https://www.nintendolife.com/reviews/nintendo-...</td>\n",
              "      <td>Digital Eclipse</td>\n",
              "      <td>Action  Arcade  Fighting  Platformer</td>\n",
              "      <td>6.9</td>\n",
              "    </tr>\n",
              "  </tbody>\n",
              "</table>\n",
              "</div>\n",
              "      <button class=\"colab-df-convert\" onclick=\"convertToInteractive('df-befe64b5-10af-4199-9067-6bd9cd99c754')\"\n",
              "              title=\"Convert this dataframe to an interactive table.\"\n",
              "              style=\"display:none;\">\n",
              "\n",
              "  <svg xmlns=\"http://www.w3.org/2000/svg\" height=\"24px\"viewBox=\"0 0 24 24\"\n",
              "       width=\"24px\">\n",
              "    <path d=\"M0 0h24v24H0V0z\" fill=\"none\"/>\n",
              "    <path d=\"M18.56 5.44l.94 2.06.94-2.06 2.06-.94-2.06-.94-.94-2.06-.94 2.06-2.06.94zm-11 1L8.5 8.5l.94-2.06 2.06-.94-2.06-.94L8.5 2.5l-.94 2.06-2.06.94zm10 10l.94 2.06.94-2.06 2.06-.94-2.06-.94-.94-2.06-.94 2.06-2.06.94z\"/><path d=\"M17.41 7.96l-1.37-1.37c-.4-.4-.92-.59-1.43-.59-.52 0-1.04.2-1.43.59L10.3 9.45l-7.72 7.72c-.78.78-.78 2.05 0 2.83L4 21.41c.39.39.9.59 1.41.59.51 0 1.02-.2 1.41-.59l7.78-7.78 2.81-2.81c.8-.78.8-2.07 0-2.86zM5.41 20L4 18.59l7.72-7.72 1.47 1.35L5.41 20z\"/>\n",
              "  </svg>\n",
              "      </button>\n",
              "\n",
              "\n",
              "\n",
              "    <div id=\"df-8e80af70-bfcb-4966-9d00-9b0ceca7eee2\">\n",
              "      <button class=\"colab-df-quickchart\" onclick=\"quickchart('df-8e80af70-bfcb-4966-9d00-9b0ceca7eee2')\"\n",
              "              title=\"Suggest charts.\"\n",
              "              style=\"display:none;\">\n",
              "\n",
              "<svg xmlns=\"http://www.w3.org/2000/svg\" height=\"24px\"viewBox=\"0 0 24 24\"\n",
              "     width=\"24px\">\n",
              "    <g>\n",
              "        <path d=\"M19 3H5c-1.1 0-2 .9-2 2v14c0 1.1.9 2 2 2h14c1.1 0 2-.9 2-2V5c0-1.1-.9-2-2-2zM9 17H7v-7h2v7zm4 0h-2V7h2v10zm4 0h-2v-4h2v4z\"/>\n",
              "    </g>\n",
              "</svg>\n",
              "      </button>\n",
              "    </div>\n",
              "\n",
              "<style>\n",
              "  .colab-df-quickchart {\n",
              "    background-color: #E8F0FE;\n",
              "    border: none;\n",
              "    border-radius: 50%;\n",
              "    cursor: pointer;\n",
              "    display: none;\n",
              "    fill: #1967D2;\n",
              "    height: 32px;\n",
              "    padding: 0 0 0 0;\n",
              "    width: 32px;\n",
              "  }\n",
              "\n",
              "  .colab-df-quickchart:hover {\n",
              "    background-color: #E2EBFA;\n",
              "    box-shadow: 0px 1px 2px rgba(60, 64, 67, 0.3), 0px 1px 3px 1px rgba(60, 64, 67, 0.15);\n",
              "    fill: #174EA6;\n",
              "  }\n",
              "\n",
              "  [theme=dark] .colab-df-quickchart {\n",
              "    background-color: #3B4455;\n",
              "    fill: #D2E3FC;\n",
              "  }\n",
              "\n",
              "  [theme=dark] .colab-df-quickchart:hover {\n",
              "    background-color: #434B5C;\n",
              "    box-shadow: 0px 1px 3px 1px rgba(0, 0, 0, 0.15);\n",
              "    filter: drop-shadow(0px 1px 2px rgba(0, 0, 0, 0.3));\n",
              "    fill: #FFFFFF;\n",
              "  }\n",
              "</style>\n",
              "\n",
              "    <script>\n",
              "      async function quickchart(key) {\n",
              "        const containerElement = document.querySelector('#' + key);\n",
              "        const charts = await google.colab.kernel.invokeFunction(\n",
              "            'suggestCharts', [key], {});\n",
              "      }\n",
              "    </script>\n",
              "\n",
              "      <script>\n",
              "\n",
              "function displayQuickchartButton(domScope) {\n",
              "  let quickchartButtonEl =\n",
              "    domScope.querySelector('#df-8e80af70-bfcb-4966-9d00-9b0ceca7eee2 button.colab-df-quickchart');\n",
              "  quickchartButtonEl.style.display =\n",
              "    google.colab.kernel.accessAllowed ? 'block' : 'none';\n",
              "}\n",
              "\n",
              "        displayQuickchartButton(document);\n",
              "      </script>\n",
              "      <style>\n",
              "    .colab-df-container {\n",
              "      display:flex;\n",
              "      flex-wrap:wrap;\n",
              "      gap: 12px;\n",
              "    }\n",
              "\n",
              "    .colab-df-convert {\n",
              "      background-color: #E8F0FE;\n",
              "      border: none;\n",
              "      border-radius: 50%;\n",
              "      cursor: pointer;\n",
              "      display: none;\n",
              "      fill: #1967D2;\n",
              "      height: 32px;\n",
              "      padding: 0 0 0 0;\n",
              "      width: 32px;\n",
              "    }\n",
              "\n",
              "    .colab-df-convert:hover {\n",
              "      background-color: #E2EBFA;\n",
              "      box-shadow: 0px 1px 2px rgba(60, 64, 67, 0.3), 0px 1px 3px 1px rgba(60, 64, 67, 0.15);\n",
              "      fill: #174EA6;\n",
              "    }\n",
              "\n",
              "    [theme=dark] .colab-df-convert {\n",
              "      background-color: #3B4455;\n",
              "      fill: #D2E3FC;\n",
              "    }\n",
              "\n",
              "    [theme=dark] .colab-df-convert:hover {\n",
              "      background-color: #434B5C;\n",
              "      box-shadow: 0px 1px 3px 1px rgba(0, 0, 0, 0.15);\n",
              "      filter: drop-shadow(0px 1px 2px rgba(0, 0, 0, 0.3));\n",
              "      fill: #FFFFFF;\n",
              "    }\n",
              "  </style>\n",
              "\n",
              "      <script>\n",
              "        const buttonEl =\n",
              "          document.querySelector('#df-befe64b5-10af-4199-9067-6bd9cd99c754 button.colab-df-convert');\n",
              "        buttonEl.style.display =\n",
              "          google.colab.kernel.accessAllowed ? 'block' : 'none';\n",
              "\n",
              "        async function convertToInteractive(key) {\n",
              "          const element = document.querySelector('#df-befe64b5-10af-4199-9067-6bd9cd99c754');\n",
              "          const dataTable =\n",
              "            await google.colab.kernel.invokeFunction('convertToInteractive',\n",
              "                                                     [key], {});\n",
              "          if (!dataTable) return;\n",
              "\n",
              "          const docLinkHtml = 'Like what you see? Visit the ' +\n",
              "            '<a target=\"_blank\" href=https://colab.research.google.com/notebooks/data_table.ipynb>data table notebook</a>'\n",
              "            + ' to learn more about interactive tables.';\n",
              "          element.innerHTML = '';\n",
              "          dataTable['output_type'] = 'display_data';\n",
              "          await google.colab.output.renderOutput(dataTable, element);\n",
              "          const docLink = document.createElement('div');\n",
              "          docLink.innerHTML = docLinkHtml;\n",
              "          element.appendChild(docLink);\n",
              "        }\n",
              "      </script>\n",
              "    </div>\n",
              "  </div>\n"
            ]
          },
          "metadata": {},
          "execution_count": 3
        }
      ]
    },
    {
      "cell_type": "code",
      "source": [
        "# create an object for TfidfVectorizer\n",
        "tfidf_vector = TfidfVectorizer(stop_words='english')\n",
        "# apply the object to the genres column\n",
        "tfidf_matrix = tfidf_vector.fit_transform(final_df['genre'])"
      ],
      "metadata": {
        "id": "SYBJNtiB7MlV"
      },
      "execution_count": 4,
      "outputs": []
    },
    {
      "cell_type": "code",
      "source": [
        "from sklearn.metrics.pairwise import linear_kernel\n",
        "# create the cosine similarity matrix\n",
        "sim_matrix = linear_kernel(tfidf_matrix,tfidf_matrix)\n",
        "sim_matrix.shape"
      ],
      "metadata": {
        "colab": {
          "base_uri": "https://localhost:8080/"
        },
        "id": "L2jFN22M75ql",
        "outputId": "5d5966fd-9d99-47dc-8534-11adee616a7e"
      },
      "execution_count": 33,
      "outputs": [
        {
          "output_type": "execute_result",
          "data": {
            "text/plain": [
              "(568, 568)"
            ]
          },
          "metadata": {},
          "execution_count": 33
        }
      ]
    },
    {
      "cell_type": "code",
      "source": [
        "#Create reverse mapping of the game title so that we can eaily match back\n",
        "indicies = pd.Series(final_df.index, index = final_df['title']).drop_duplicates()"
      ],
      "metadata": {
        "id": "Q6Apo5NMztag"
      },
      "execution_count": 8,
      "outputs": []
    },
    {
      "cell_type": "code",
      "source": [
        "\n",
        "def get_recommendations_by_genre(title, cosine_sim = sim_matrix):\n",
        "  idx = indicies[title]\n",
        "  sim_scores = list(enumerate(cosine_sim[idx]))\n",
        "  sim_scores = sorted(sim_scores, key = lambda x:x[1], reverse = True)\n",
        "  sim_scores = sim_scores[1:11]\n",
        "  game_indicies = [i[0] for i in sim_scores]\n",
        "  return final_df['title'].iloc[game_indicies]"
      ],
      "metadata": {
        "id": "3ud3jHKiaFRF"
      },
      "execution_count": 29,
      "outputs": []
    },
    {
      "cell_type": "code",
      "source": [
        "get_recommendations_by_genre('Splatoon 3')"
      ],
      "metadata": {
        "colab": {
          "base_uri": "https://localhost:8080/"
        },
        "id": "Td5cDuxy0dXY",
        "outputId": "24939583-c24c-4a37-b412-97ac1f792a88"
      },
      "execution_count": 30,
      "outputs": [
        {
          "output_type": "execute_result",
          "data": {
            "text/plain": [
              "198             Mario Kart Live: Home Circuit\n",
              "51                                 Chocobo GP\n",
              "562                     10 Second Run Returns\n",
              "103                              Cruisn Blast\n",
              "303                            Race With Ryan\n",
              "290                 Disney Tsum Tsum Festival\n",
              "460                            Carnival Games\n",
              "635                                1-2-Switch\n",
              "178    Need for Speed: Hot Pursuit Remastered\n",
              "299              Garfield Kart Furious Racing\n",
              "Name: title, dtype: object"
            ]
          },
          "metadata": {},
          "execution_count": 30
        }
      ]
    },
    {
      "cell_type": "code",
      "source": [
        "get_recommendations_by_genre('JoJos Bizarre Adventure: All-Star Battle R')"
      ],
      "metadata": {
        "colab": {
          "base_uri": "https://localhost:8080/"
        },
        "id": "qQb6kPnz18J8",
        "outputId": "5d923dbf-a84f-43d2-e3d2-f40ad9065ba9"
      },
      "execution_count": 22,
      "outputs": [
        {
          "output_type": "execute_result",
          "data": {
            "text/plain": [
              "18                                           Live A Live\n",
              "53     Atelier Sophie 2: The Alchemist of the Mysteri...\n",
              "76                         BLUE REFLECTION: Second Light\n",
              "85                                      Astria Ascending\n",
              "136          Shin Megami Tensei III Nocturne HD Remaster\n",
              "160                                   Bravely Default II\n",
              "167      Atelier Ryza 2: Lost Legends & The Secret Fairy\n",
              "223                                           Fairy Tail\n",
              "241             Xenoblade Chronicles: Definitive Edition\n",
              "273                Snack World: The Dungeon Crawl - Gold\n",
              "Name: title, dtype: object"
            ]
          },
          "metadata": {},
          "execution_count": 22
        }
      ]
    }
  ]
}